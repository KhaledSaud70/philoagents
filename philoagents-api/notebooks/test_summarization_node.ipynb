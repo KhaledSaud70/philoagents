{
 "cells": [
  {
   "cell_type": "code",
   "execution_count": 1,
   "id": "62deb88d",
   "metadata": {},
   "outputs": [],
   "source": [
    "import sys\n",
    "from pathlib import Path\n",
    "\n",
    "root_dir = str(Path().absolute().parent)\n",
    "\n",
    "if root_dir not in sys.path:\n",
    "    sys.path.append(root_dir)"
   ]
  },
  {
   "cell_type": "code",
   "execution_count": 2,
   "id": "9c073720",
   "metadata": {},
   "outputs": [
    {
     "data": {
      "text/plain": [
       "True"
      ]
     },
     "execution_count": 2,
     "metadata": {},
     "output_type": "execute_result"
    }
   ],
   "source": [
    "from dotenv import load_dotenv\n",
    "\n",
    "load_dotenv()"
   ]
  },
  {
   "cell_type": "code",
   "execution_count": 3,
   "id": "e7e3aa45",
   "metadata": {},
   "outputs": [
    {
     "data": {
      "text/plain": [
       "4"
      ]
     },
     "execution_count": 3,
     "metadata": {},
     "output_type": "execute_result"
    }
   ],
   "source": [
    "from philoagents.config import settings\n",
    "\n",
    "settings.TOTAL_MESSAGES_SUMMARY_TRIGGER"
   ]
  },
  {
   "cell_type": "code",
   "execution_count": 4,
   "id": "17e4a6c4",
   "metadata": {},
   "outputs": [],
   "source": [
    "from pprint import pprint\n",
    "\n",
    "from philoagents.domain.philosopher_factory import PhilosopherFactory"
   ]
  },
  {
   "cell_type": "code",
   "execution_count": 5,
   "id": "4d97880a",
   "metadata": {},
   "outputs": [
    {
     "name": "stdout",
     "output_type": "stream",
     "text": [
      "['socrates',\n",
      " 'plato',\n",
      " 'aristotle',\n",
      " 'descartes',\n",
      " 'leibniz',\n",
      " 'ada_lovelace',\n",
      " 'turing',\n",
      " 'chomsky',\n",
      " 'searle',\n",
      " 'dennett']\n"
     ]
    }
   ],
   "source": [
    "philosopher_factory = PhilosopherFactory()\n",
    "pprint(philosopher_factory.get_available_philosophers())"
   ]
  },
  {
   "cell_type": "code",
   "execution_count": 6,
   "id": "d23b0dca",
   "metadata": {},
   "outputs": [],
   "source": [
    "from philoagents.application.conversation_service.generate_response import (\n",
    "    get_response,\n",
    ")"
   ]
  },
  {
   "cell_type": "code",
   "execution_count": 7,
   "id": "1a7d058e",
   "metadata": {},
   "outputs": [
    {
     "name": "stdout",
     "output_type": "stream",
     "text": [
      "Response: I doubt it, for like prisoners in a cave, we see only shadows of true wisdom, and AI may perpetuate our limited understanding.\n",
      "Summary: In a conversation about AI, the user inquired about AI and ethics, to which Plato responded that it involves questions of bias. The user then asked about regulation, and Plato mentioned that governments are considering various policies. When the user questioned whether AI will evolve responsibly, Plato expressed skepticism, suggesting that AI may perpetuate humanity's limited understanding, drawing an analogy to his famous allegory of the cave.\n"
     ]
    }
   ],
   "source": [
    "philosopher = philosopher_factory.get_philosopher(\"plato\")\n",
    "\n",
    "response, state = await get_response(\n",
    "    messages=[\n",
    "        {\"role\": \"user\", \"content\": \"Tell me about AI and ethics.\"},\n",
    "        {\"role\": \"assistant\", \"content\": \"AI ethics involves questions of bias...\"},\n",
    "        {\"role\": \"user\", \"content\": \"What about regulation?\"},\n",
    "        {\n",
    "            \"role\": \"assistant\",\n",
    "            \"content\": \"Governments are considering various policies...\",\n",
    "        },\n",
    "        {\"role\": \"user\", \"content\": \"Do you think it will evolve responsibly?\"},\n",
    "    ],\n",
    "    philosopher_id=\"plato\",\n",
    "    philosopher_name=philosopher.name,\n",
    "    philosopher_perspective=philosopher.perspective,\n",
    "    philosopher_style=philosopher.style,\n",
    "    philosopher_context=\"\",\n",
    ")\n",
    "\n",
    "print(\"Response:\", response)\n",
    "print(\"Summary:\", state.get(\"summary\", \"\"))"
   ]
  },
  {
   "cell_type": "code",
   "execution_count": null,
   "id": "917ee592",
   "metadata": {},
   "outputs": [],
   "source": []
  }
 ],
 "metadata": {
  "kernelspec": {
   "display_name": ".venv",
   "language": "python",
   "name": "python3"
  },
  "language_info": {
   "codemirror_mode": {
    "name": "ipython",
    "version": 3
   },
   "file_extension": ".py",
   "mimetype": "text/x-python",
   "name": "python",
   "nbconvert_exporter": "python",
   "pygments_lexer": "ipython3",
   "version": "3.12.3"
  }
 },
 "nbformat": 4,
 "nbformat_minor": 5
}
